{
  "nbformat": 4,
  "nbformat_minor": 0,
  "metadata": {
    "colab": {
      "name": "눈깜빡.ipynb",
      "provenance": [],
      "collapsed_sections": []
    },
    "kernelspec": {
      "name": "python3",
      "display_name": "Python 3"
    },
    "language_info": {
      "name": "python"
    },
    "accelerator": "GPU"
  },
  "cells": [
    {
      "cell_type": "code",
      "metadata": {
        "id": "mqkRlrnffTjs"
      },
      "source": [
        "import datetime\n",
        "import numpy as np\n",
        "import matplotlib.pyplot as plt\n",
        "from keras.layers import Input, Activation, Conv2D, Flatten, Dense, MaxPooling2D #CNN모델사용\n",
        "from keras.models import Model, load_model\n",
        "from keras.preprocessing.image import ImageDataGenerator #케라스 전처리를 통해 augmentation\n",
        "from keras.callbacks import ModelCheckpoint, ReduceLROnPlateau\n",
        "plt.style.use('dark_background')\n"
      ],
      "execution_count": 2,
      "outputs": []
    },
    {
      "cell_type": "code",
      "metadata": {
        "colab": {
          "base_uri": "https://localhost:8080/"
        },
        "id": "A4-fdjo0kBlp",
        "outputId": "e4af1899-6875-4be0-890b-7820618b7d3f"
      },
      "source": [
        "from google.colab import drive\n",
        "drive.mount('/content/gdrive')"
      ],
      "execution_count": 3,
      "outputs": [
        {
          "output_type": "stream",
          "text": [
            "Mounted at /content/gdrive\n"
          ],
          "name": "stdout"
        }
      ]
    },
    {
      "cell_type": "code",
      "metadata": {
        "id": "bksCZhmnf8GR",
        "colab": {
          "base_uri": "https://localhost:8080/"
        },
        "outputId": "bb7eca24-e8f8-43b3-dcf5-961a3baf597f"
      },
      "source": [
        "x_train = np.load('/content/gdrive/My Drive/eye/Data/dataset/x_train.npy').astype(np.float32#x훈련)\n",
        "y_train = np.load('/content/gdrive/My Drive/eye/Data/dataset/y_train.npy').astype(np.float32)#y훈련\n",
        "x_val = np.load('/content/gdrive/My Drive/eye/Data/dataset/x_val.npy').astype(np.float32)#x vaildation(정답)\n",
        "y_val = np.load('/content/gdrive/My Drive/eye/Data/dataset/y_val.npy').astype(np.float32)\n",
        "\n",
        "print(x_train.shape, y_train.shape)#모양 확인 (2586개, 26*34이미지흑백,1(눈뜬것)) 0이면 눈감음 \n",
        "print(x_val.shape, y_val.shape)"
      ],
      "execution_count": 9,
      "outputs": [
        {
          "output_type": "stream",
          "text": [
            "(2586, 26, 34, 1) (2586, 1)#2586개, 26*34image, \n",
            "(288, 26, 34, 1) (288, 1)\n"
          ],
          "name": "stdout"
        }
      ]
    },
    {
      "cell_type": "code",
      "metadata": {
        "id": "eqOuYjcpf8Io",
        "colab": {
          "base_uri": "https://localhost:8080/",
          "height": 298
        },
        "outputId": "11ed03ac-fbad-4d06-c95a-553a7881fd12"
      },
      "source": [
        "plt.subplot(2, 1, 1)\n",
        "plt.title(str(y_train[0]))\n",
        "plt.imshow(x_train[0].reshape((26, 34)), cmap='gray')\n",
        "plt.subplot(2, 1, 2)\n",
        "plt.title(str(y_val[4]))\n",
        "plt.imshow(x_val[4].reshape((26, 34)), cmap='gray')"
      ],
      "execution_count": 10,
      "outputs": [
        {
          "output_type": "execute_result",
          "data": {
            "text/plain": [
              "<matplotlib.image.AxesImage at 0x7f51d1844150>"
            ]
          },
          "metadata": {
            "tags": []
          },
          "execution_count": 10
        },
        {
          "output_type": "display_data",
          "data": {
            "image/png": "[encoded data removed]",
            "text/plain": [
              "<Figure size 432x288 with 2 Axes>"
            ]
          },
          "metadata": {
            "tags": []
          }
        }
      ]
    },
    {
      "cell_type": "code",
      "metadata": {
        "id": "1ski8Yj8f8K_"
      },
      "source": [
        "train_datagen = ImageDataGenerator(\n",
        "    rescale=1./255, #0에서 255이므로 0에서1로\n",
        "    rotation_range=10, \n",
        "    width_shift_range=0.2,\n",
        "    height_shift_range=0.2,\n",
        "    shear_range=0.2\n",
        ") #augementation\n",
        "\n",
        "val_datagen = ImageDataGenerator(rescale=1./255) #vaildation data set\n",
        "\n",
        "train_generator = train_datagen.flow(\n",
        "    x=x_train, y=y_train,\n",
        "    batch_size=32,\n",
        "    shuffle=True\n",
        ")#32씩 읽게할것\n",
        "\n",
        "val_generator = val_datagen.flow(\n",
        "    x=x_val, y=y_val,\n",
        "    batch_size=32,\n",
        "    shuffle=False\n",
        ")"
      ],
      "execution_count": 11,
      "outputs": []
    },
    {
      "cell_type": "code",
      "metadata": {
        "id": "6yXC2P-Kf8NS",
        "colab": {
          "base_uri": "https://localhost:8080/"
        },
        "outputId": "970f8423-fee2-4153-98c5-3b8da0dd8911"
      },
      "source": [
        "inputs = Input(shape=(26, 34, 1)) #26*34인 gray sccle이미지\n",
        "\n",
        "net = Conv2D(32, kernel_size=3, strides=1, padding='same', activation='relu')(inputs) #convernsion\n",
        "net = MaxPooling2D(pool_size=2)(net) #차원축소\n",
        "\n",
        "net = Conv2D(64, kernel_size=3, strides=1, padding='same', activation='relu')(net)\n",
        "net = MaxPooling2D(pool_size=2)(net)\n",
        "\n",
        "net = Conv2D(128, kernel_size=3, strides=1, padding='same', activation='relu')(net)\n",
        "net = MaxPooling2D(pool_size=2)(net)\n",
        "\n",
        "net = Flatten()(net) #일자로 핌\n",
        "\n",
        "net = Dense(512)(net) #512 fully conneceted\n",
        "net = Activation('relu')(net)#relu\n",
        "net = Dense(1)(net)#출력 1개\n",
        "outputs = Activation('sigmoid')(net)#0에서1사이 값 시그모이드\n",
        "\n",
        "model = Model(inputs=inputs, outputs=outputs)\n",
        "\n",
        "model.compile(optimizer='adam', loss='binary_crossentropy', metrics=['acc'])\n",
        "#Adam optimizer,binary_crossentropy loss function, acc metrics추가\n",
        "model.summary()"
      ],
      "execution_count": 12,
      "outputs": [
        {
          "output_type": "stream",
          "text": [
            "Model: \"model\"\n",
            "_________________________________________________________________\n",
            "Layer (type)                 Output Shape              Param #   \n",
            "=================================================================\n",
            "input_1 (InputLayer)         [(None, 26, 34, 1)]       0         \n",
            "_________________________________________________________________\n",
            "conv2d (Conv2D)              (None, 26, 34, 32)        320       \n",
            "_________________________________________________________________\n",
            "max_pooling2d (MaxPooling2D) (None, 13, 17, 32)        0         \n",
            "_________________________________________________________________\n",
            "conv2d_1 (Conv2D)            (None, 13, 17, 64)        18496     \n",
            "_________________________________________________________________\n",
            "max_pooling2d_1 (MaxPooling2 (None, 6, 8, 64)          0         \n",
            "_________________________________________________________________\n",
            "conv2d_2 (Conv2D)            (None, 6, 8, 128)         73856     \n",
            "_________________________________________________________________\n",
            "max_pooling2d_2 (MaxPooling2 (None, 3, 4, 128)         0         \n",
            "_________________________________________________________________\n",
            "flatten (Flatten)            (None, 1536)              0         \n",
            "_________________________________________________________________\n",
            "dense (Dense)                (None, 512)               786944    \n",
            "_________________________________________________________________\n",
            "activation (Activation)      (None, 512)               0         \n",
            "_________________________________________________________________\n",
            "dense_1 (Dense)              (None, 1)                 513       \n",
            "_________________________________________________________________\n",
            "activation_1 (Activation)    (None, 1)                 0         \n",
            "=================================================================\n",
            "Total params: 880,129\n",
            "Trainable params: 880,129\n",
            "Non-trainable params: 0\n",
            "_________________________________________________________________\n"
          ],
          "name": "stdout"
        }
      ]
    },
    {
      "cell_type": "code",
      "metadata": {
        "id": "7joKhPIZf8Pv",
        "colab": {
          "base_uri": "https://localhost:8080/"
        },
        "outputId": "3c3e08e1-fa4c-47d5-cca4-e98d15c60fd5"
      },
      "source": [
        "start_time = datetime.datetime.now().strftime('%Y_%m_%d_%H_%M_%S')\n",
        "\n",
        "model.fit_generator(\n",
        "    train_generator, epochs=50, validation_data=val_generator, #generator로 학습 50번\n",
        "    callbacks=[\n",
        "        ModelCheckpoint('models/%s.h5' % (start_time), monitor='val_acc', save_best_only=True, mode='max', verbose=1),\n",
        "        ReduceLROnPlateau(monitor='val_acc', factor=0.2, patience=10, verbose=1, mode='auto', min_lr=1e-05)\n",
        "    ]\n",
        ")"
      ],
      "execution_count": 13,
      "outputs": [
        {
          "output_type": "stream",
          "text": [
            "/usr/local/lib/python3.7/dist-packages/tensorflow/python/keras/engine/training.py:1844: UserWarning: `Model.fit_generator` is deprecated and will be removed in a future version. Please use `Model.fit`, which supports generators.\n",
            "  warnings.warn('`Model.fit_generator` is deprecated and '\n"
          ],
          "name": "stderr"
        },
        {
          "output_type": "stream",
          "text": [
            "Epoch 1/50\n",
            "81/81 [==============================] - 34s 15ms/step - loss: 0.5801 - acc: 0.6643 - val_loss: 0.2587 - val_acc: 0.9132\n",
            "\n",
            "Epoch 00001: val_acc improved from -inf to 0.91319, saving model to models/2021_05_03_14_21_46.h5\n",
            "Epoch 2/50\n",
            "81/81 [==============================] - 1s 11ms/step - loss: 0.3029 - acc: 0.8781 - val_loss: 0.1458 - val_acc: 0.9410\n",
            "\n",
            "Epoch 00002: val_acc improved from 0.91319 to 0.94097, saving model to models/2021_05_03_14_21_46.h5\n",
            "Epoch 3/50\n",
            "81/81 [==============================] - 1s 12ms/step - loss: 0.1937 - acc: 0.9261 - val_loss: 0.0757 - val_acc: 0.9722\n",
            "\n",
            "Epoch 00003: val_acc improved from 0.94097 to 0.97222, saving model to models/2021_05_03_14_21_46.h5\n",
            "Epoch 4/50\n",
            "81/81 [==============================] - 1s 12ms/step - loss: 0.1753 - acc: 0.9371 - val_loss: 0.0590 - val_acc: 0.9722\n",
            "\n",
            "Epoch 00004: val_acc did not improve from 0.97222\n",
            "Epoch 5/50\n",
            "81/81 [==============================] - 1s 12ms/step - loss: 0.1352 - acc: 0.9506 - val_loss: 0.0546 - val_acc: 0.9792\n",
            "\n",
            "Epoch 00005: val_acc improved from 0.97222 to 0.97917, saving model to models/2021_05_03_14_21_46.h5\n",
            "Epoch 6/50\n",
            "81/81 [==============================] - 1s 12ms/step - loss: 0.1008 - acc: 0.9712 - val_loss: 0.0670 - val_acc: 0.9722\n",
            "\n",
            "Epoch 00006: val_acc did not improve from 0.97917\n",
            "Epoch 7/50\n",
            "81/81 [==============================] - 1s 11ms/step - loss: 0.0877 - acc: 0.9713 - val_loss: 0.0403 - val_acc: 0.9861\n",
            "\n",
            "Epoch 00007: val_acc improved from 0.97917 to 0.98611, saving model to models/2021_05_03_14_21_46.h5\n",
            "Epoch 8/50\n",
            "81/81 [==============================] - 1s 12ms/step - loss: 0.0746 - acc: 0.9758 - val_loss: 0.0880 - val_acc: 0.9688\n",
            "\n",
            "Epoch 00008: val_acc did not improve from 0.98611\n",
            "Epoch 9/50\n",
            "81/81 [==============================] - 1s 12ms/step - loss: 0.0844 - acc: 0.9729 - val_loss: 0.0567 - val_acc: 0.9792\n",
            "\n",
            "Epoch 00009: val_acc did not improve from 0.98611\n",
            "Epoch 10/50\n",
            "81/81 [==============================] - 1s 12ms/step - loss: 0.0664 - acc: 0.9731 - val_loss: 0.0584 - val_acc: 0.9792\n",
            "\n",
            "Epoch 00010: val_acc did not improve from 0.98611\n",
            "Epoch 11/50\n",
            "81/81 [==============================] - 1s 12ms/step - loss: 0.0625 - acc: 0.9831 - val_loss: 0.0435 - val_acc: 0.9931\n",
            "\n",
            "Epoch 00011: val_acc improved from 0.98611 to 0.99306, saving model to models/2021_05_03_14_21_46.h5\n",
            "Epoch 12/50\n",
            "81/81 [==============================] - 1s 12ms/step - loss: 0.0572 - acc: 0.9829 - val_loss: 0.0522 - val_acc: 0.9826\n",
            "\n",
            "Epoch 00012: val_acc did not improve from 0.99306\n",
            "Epoch 13/50\n",
            "81/81 [==============================] - 1s 12ms/step - loss: 0.0671 - acc: 0.9798 - val_loss: 0.0181 - val_acc: 0.9931\n",
            "\n",
            "Epoch 00013: val_acc did not improve from 0.99306\n",
            "Epoch 14/50\n",
            "81/81 [==============================] - 1s 12ms/step - loss: 0.0437 - acc: 0.9829 - val_loss: 0.0446 - val_acc: 0.9896\n",
            "\n",
            "Epoch 00014: val_acc did not improve from 0.99306\n",
            "Epoch 15/50\n",
            "81/81 [==============================] - 1s 12ms/step - loss: 0.0362 - acc: 0.9891 - val_loss: 0.0113 - val_acc: 0.9965\n",
            "\n",
            "Epoch 00015: val_acc improved from 0.99306 to 0.99653, saving model to models/2021_05_03_14_21_46.h5\n",
            "Epoch 16/50\n",
            "81/81 [==============================] - 1s 12ms/step - loss: 0.0355 - acc: 0.9853 - val_loss: 0.0218 - val_acc: 0.9861\n",
            "\n",
            "Epoch 00016: val_acc did not improve from 0.99653\n",
            "Epoch 17/50\n",
            "81/81 [==============================] - 1s 12ms/step - loss: 0.0371 - acc: 0.9887 - val_loss: 0.0546 - val_acc: 0.9826\n",
            "\n",
            "Epoch 00017: val_acc did not improve from 0.99653\n",
            "Epoch 18/50\n",
            "81/81 [==============================] - 1s 12ms/step - loss: 0.0545 - acc: 0.9815 - val_loss: 0.0195 - val_acc: 0.9931\n",
            "\n",
            "Epoch 00018: val_acc did not improve from 0.99653\n",
            "Epoch 19/50\n",
            "81/81 [==============================] - 1s 11ms/step - loss: 0.0377 - acc: 0.9859 - val_loss: 0.0197 - val_acc: 0.9931\n",
            "\n",
            "Epoch 00019: val_acc did not improve from 0.99653\n",
            "Epoch 20/50\n",
            "81/81 [==============================] - 1s 12ms/step - loss: 0.0250 - acc: 0.9922 - val_loss: 0.0218 - val_acc: 0.9931\n",
            "\n",
            "Epoch 00020: val_acc did not improve from 0.99653\n",
            "Epoch 21/50\n",
            "81/81 [==============================] - 1s 12ms/step - loss: 0.0320 - acc: 0.9902 - val_loss: 0.0226 - val_acc: 0.9931\n",
            "\n",
            "Epoch 00021: val_acc did not improve from 0.99653\n",
            "Epoch 22/50\n",
            "81/81 [==============================] - 1s 11ms/step - loss: 0.0344 - acc: 0.9882 - val_loss: 0.0150 - val_acc: 0.9931\n",
            "\n",
            "Epoch 00022: val_acc did not improve from 0.99653\n",
            "Epoch 23/50\n",
            "81/81 [==============================] - 1s 12ms/step - loss: 0.0168 - acc: 0.9946 - val_loss: 0.0128 - val_acc: 1.0000\n",
            "\n",
            "Epoch 00023: val_acc improved from 0.99653 to 1.00000, saving model to models/2021_05_03_14_21_46.h5\n",
            "Epoch 24/50\n",
            "81/81 [==============================] - 1s 12ms/step - loss: 0.0357 - acc: 0.9895 - val_loss: 0.0289 - val_acc: 0.9931\n",
            "\n",
            "Epoch 00024: val_acc did not improve from 1.00000\n",
            "Epoch 25/50\n",
            "81/81 [==============================] - 1s 12ms/step - loss: 0.0285 - acc: 0.9896 - val_loss: 0.0402 - val_acc: 0.9896\n",
            "\n",
            "Epoch 00025: val_acc did not improve from 1.00000\n",
            "Epoch 26/50\n",
            "81/81 [==============================] - 1s 12ms/step - loss: 0.0177 - acc: 0.9937 - val_loss: 0.0073 - val_acc: 0.9965\n",
            "\n",
            "Epoch 00026: val_acc did not improve from 1.00000\n",
            "Epoch 27/50\n",
            "81/81 [==============================] - 1s 12ms/step - loss: 0.0332 - acc: 0.9907 - val_loss: 0.0142 - val_acc: 0.9896\n",
            "\n",
            "Epoch 00027: val_acc did not improve from 1.00000\n",
            "Epoch 28/50\n",
            "81/81 [==============================] - 1s 12ms/step - loss: 0.0349 - acc: 0.9849 - val_loss: 0.0094 - val_acc: 0.9965\n",
            "\n",
            "Epoch 00028: val_acc did not improve from 1.00000\n",
            "Epoch 29/50\n",
            "81/81 [==============================] - 1s 12ms/step - loss: 0.0186 - acc: 0.9923 - val_loss: 0.0119 - val_acc: 0.9931\n",
            "\n",
            "Epoch 00029: val_acc did not improve from 1.00000\n",
            "Epoch 30/50\n",
            "81/81 [==============================] - 1s 12ms/step - loss: 0.0239 - acc: 0.9903 - val_loss: 0.0110 - val_acc: 0.9931\n",
            "\n",
            "Epoch 00030: val_acc did not improve from 1.00000\n",
            "Epoch 31/50\n",
            "81/81 [==============================] - 1s 12ms/step - loss: 0.0194 - acc: 0.9957 - val_loss: 0.0350 - val_acc: 0.9896\n",
            "\n",
            "Epoch 00031: val_acc did not improve from 1.00000\n",
            "Epoch 32/50\n",
            "81/81 [==============================] - 1s 12ms/step - loss: 0.0409 - acc: 0.9890 - val_loss: 0.0058 - val_acc: 1.0000\n",
            "\n",
            "Epoch 00032: val_acc did not improve from 1.00000\n",
            "Epoch 33/50\n",
            "81/81 [==============================] - 1s 12ms/step - loss: 0.0103 - acc: 0.9955 - val_loss: 0.0084 - val_acc: 0.9965\n",
            "\n",
            "Epoch 00033: val_acc did not improve from 1.00000\n",
            "\n",
            "Epoch 00033: ReduceLROnPlateau reducing learning rate to 0.00020000000949949026.\n",
            "Epoch 34/50\n",
            "81/81 [==============================] - 1s 12ms/step - loss: 0.0087 - acc: 0.9986 - val_loss: 0.0048 - val_acc: 1.0000\n",
            "\n",
            "Epoch 00034: val_acc did not improve from 1.00000\n",
            "Epoch 35/50\n",
            "81/81 [==============================] - 1s 12ms/step - loss: 0.0043 - acc: 0.9991 - val_loss: 0.0037 - val_acc: 1.0000\n",
            "\n",
            "Epoch 00035: val_acc did not improve from 1.00000\n",
            "Epoch 36/50\n",
            "81/81 [==============================] - 1s 12ms/step - loss: 0.0050 - acc: 0.9973 - val_loss: 0.0104 - val_acc: 0.9965\n",
            "\n",
            "Epoch 00036: val_acc did not improve from 1.00000\n",
            "Epoch 37/50\n",
            "81/81 [==============================] - 1s 12ms/step - loss: 0.0084 - acc: 0.9977 - val_loss: 0.0032 - val_acc: 1.0000\n",
            "\n",
            "Epoch 00037: val_acc did not improve from 1.00000\n",
            "Epoch 38/50\n",
            "81/81 [==============================] - 1s 12ms/step - loss: 0.0066 - acc: 0.9965 - val_loss: 0.0061 - val_acc: 0.9965\n",
            "\n",
            "Epoch 00038: val_acc did not improve from 1.00000\n",
            "Epoch 39/50\n",
            "81/81 [==============================] - 1s 12ms/step - loss: 0.0022 - acc: 1.0000 - val_loss: 0.0030 - val_acc: 1.0000\n",
            "\n",
            "Epoch 00039: val_acc did not improve from 1.00000\n",
            "Epoch 40/50\n",
            "81/81 [==============================] - 1s 11ms/step - loss: 0.0066 - acc: 0.9979 - val_loss: 0.0027 - val_acc: 1.0000\n",
            "\n",
            "Epoch 00040: val_acc did not improve from 1.00000\n",
            "Epoch 41/50\n",
            "81/81 [==============================] - 1s 12ms/step - loss: 0.0060 - acc: 0.9977 - val_loss: 0.0046 - val_acc: 0.9965\n",
            "\n",
            "Epoch 00041: val_acc did not improve from 1.00000\n",
            "Epoch 42/50\n",
            "81/81 [==============================] - 1s 12ms/step - loss: 0.0029 - acc: 0.9998 - val_loss: 0.0082 - val_acc: 0.9965\n",
            "\n",
            "Epoch 00042: val_acc did not improve from 1.00000\n",
            "Epoch 43/50\n",
            "81/81 [==============================] - 1s 11ms/step - loss: 0.0032 - acc: 0.9994 - val_loss: 0.0035 - val_acc: 0.9965\n",
            "\n",
            "Epoch 00043: val_acc did not improve from 1.00000\n",
            "\n",
            "Epoch 00043: ReduceLROnPlateau reducing learning rate to 4.0000001899898055e-05.\n",
            "Epoch 44/50\n",
            "81/81 [==============================] - 1s 11ms/step - loss: 0.0073 - acc: 0.9990 - val_loss: 0.0051 - val_acc: 0.9965\n",
            "\n",
            "Epoch 00044: val_acc did not improve from 1.00000\n",
            "Epoch 45/50\n",
            "81/81 [==============================] - 1s 12ms/step - loss: 0.0041 - acc: 0.9977 - val_loss: 0.0031 - val_acc: 1.0000\n",
            "\n",
            "Epoch 00045: val_acc did not improve from 1.00000\n",
            "Epoch 46/50\n",
            "81/81 [==============================] - 1s 12ms/step - loss: 0.0040 - acc: 0.9989 - val_loss: 0.0032 - val_acc: 0.9965\n",
            "\n",
            "Epoch 00046: val_acc did not improve from 1.00000\n",
            "Epoch 47/50\n",
            "81/81 [==============================] - 1s 12ms/step - loss: 0.0028 - acc: 0.9996 - val_loss: 0.0040 - val_acc: 0.9965\n",
            "\n",
            "Epoch 00047: val_acc did not improve from 1.00000\n",
            "Epoch 48/50\n",
            "81/81 [==============================] - 1s 12ms/step - loss: 0.0028 - acc: 0.9996 - val_loss: 0.0038 - val_acc: 0.9965\n",
            "\n",
            "Epoch 00048: val_acc did not improve from 1.00000\n",
            "Epoch 49/50\n",
            "81/81 [==============================] - 1s 12ms/step - loss: 0.0020 - acc: 0.9997 - val_loss: 0.0055 - val_acc: 0.9965\n",
            "\n",
            "Epoch 00049: val_acc did not improve from 1.00000\n",
            "Epoch 50/50\n",
            "81/81 [==============================] - 1s 12ms/step - loss: 0.0028 - acc: 0.9997 - val_loss: 0.0040 - val_acc: 0.9965\n",
            "\n",
            "Epoch 00050: val_acc did not improve from 1.00000\n"
          ],
          "name": "stdout"
        },
        {
          "output_type": "execute_result",
          "data": {
            "text/plain": [
              "<tensorflow.python.keras.callbacks.History at 0x7f51d894be10>"
            ]
          },
          "metadata": {
            "tags": []
          },
          "execution_count": 13
        }
      ]
    },
    {
      "cell_type": "code",
      "metadata": {
        "id": "DWIrDHyNf8R8",
        "colab": {
          "base_uri": "https://localhost:8080/",
          "height": 300
        },
        "outputId": "997633d3-d7cc-470e-a8df-436798cb602d"
      },
      "source": [
        "from sklearn.metrics import accuracy_score, confusion_matrix #confusion 매트릭스\n",
        "import seaborn as sns #그래프 패키지\n",
        "\n",
        "model = load_model('models/%s.h5' % (start_time)) #load모델로 불러옴\n",
        "\n",
        "y_pred = model.predict(x_val/255.) #데이터 예측\n",
        "y_pred_logical = (y_pred > 0.5).astype(np.int) #0.5보다크면 눈뜸 아니면 감음 그것을 다시 int로 바꿈\n",
        "\n",
        "print ('test acc: %s' % accuracy_score(y_val, y_pred_logical))#accuracy 보여줌\n",
        "cm = confusion_matrix(y_val, y_pred_logical)\n",
        "sns.heatmap(cm, annot=True) #heatmap그리기\n",
        "#x축 y축 각각 뜬거 감은거판단 "
      ],
      "execution_count": 14,
      "outputs": [
        {
          "output_type": "stream",
          "text": [
            "test acc: 1.0\n"
          ],
          "name": "stdout"
        },
        {
          "output_type": "execute_result",
          "data": {
            "text/plain": [
              "<matplotlib.axes._subplots.AxesSubplot at 0x7f50cd412190>"
            ]
          },
          "metadata": {
            "tags": []
          },
          "execution_count": 14
        },
        {
          "output_type": "display_data",
          "data": {
            "image/png": "[encoded data removed]",
            "text/plain": [
              "<Figure size 432x288 with 2 Axes>"
            ]
          },
          "metadata": {
            "tags": []
          }
        }
      ]
    },
    {
      "cell_type": "code",
      "metadata": {
        "id": "7N7OEnLNf8US",
        "colab": {
          "base_uri": "https://localhost:8080/",
          "height": 320
        },
        "outputId": "ce190c39-8eec-4049-ee94-4e5ae1a7d572"
      },
      "source": [
        "ax = sns.distplot(y_pred, kde=False)"
      ],
      "execution_count": 15,
      "outputs": [
        {
          "output_type": "stream",
          "text": [
            "/usr/local/lib/python3.7/dist-packages/seaborn/distributions.py:2557: FutureWarning: `distplot` is a deprecated function and will be removed in a future version. Please adapt your code to use either `displot` (a figure-level function with similar flexibility) or `histplot` (an axes-level function for histograms).\n",
            "  warnings.warn(msg, FutureWarning)\n"
          ],
          "name": "stderr"
        },
        {
          "output_type": "display_data",
          "data": {
            "image/png": "[encoded data removed]",
            "text/plain": [
              "<Figure size 432x288 with 1 Axes>"
            ]
          },
          "metadata": {
            "tags": []
          }
        }
      ]
    },
    {
      "cell_type": "code",
      "metadata": {
        "id": "SKuuXhU_f8Wl"
      },
      "source": [
        ""
      ],
      "execution_count": null,
      "outputs": []
    },
    {
      "cell_type": "code",
      "metadata": {
        "id": "3BdXOMquf8Ys"
      },
      "source": [
        ""
      ],
      "execution_count": null,
      "outputs": []
    }
  ]
}
